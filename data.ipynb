{
 "cells": [
  {
   "cell_type": "code",
   "execution_count": 5,
   "metadata": {},
   "outputs": [],
   "source": [
    "import numpy as np\n",
    "import pandas as pd\n",
    "import matplotlib.pyplot as plt\n",
    "\n"
   ]
  },
  {
   "cell_type": "markdown",
   "metadata": {},
   "source": []
  },
  {
   "cell_type": "code",
   "execution_count": 20,
   "metadata": {},
   "outputs": [
    {
     "data": {
      "text/html": [
       "<div>\n",
       "<style scoped>\n",
       "    .dataframe tbody tr th:only-of-type {\n",
       "        vertical-align: middle;\n",
       "    }\n",
       "\n",
       "    .dataframe tbody tr th {\n",
       "        vertical-align: top;\n",
       "    }\n",
       "\n",
       "    .dataframe thead th {\n",
       "        text-align: right;\n",
       "    }\n",
       "</style>\n",
       "<table border=\"1\" class=\"dataframe\">\n",
       "  <thead>\n",
       "    <tr style=\"text-align: right;\">\n",
       "      <th></th>\n",
       "      <th>Unnamed: 0</th>\n",
       "      <th>index</th>\n",
       "      <th>user_prompt</th>\n",
       "      <th>model_response</th>\n",
       "    </tr>\n",
       "  </thead>\n",
       "  <tbody>\n",
       "    <tr>\n",
       "      <th>9995</th>\n",
       "      <td>9995</td>\n",
       "      <td>16854</td>\n",
       "      <td>Generate a job description for a Data Analyst ...</td>\n",
       "      <td>Job Description: Data Analyst (Mining, Crude-O...</td>\n",
       "    </tr>\n",
       "    <tr>\n",
       "      <th>9996</th>\n",
       "      <td>9996</td>\n",
       "      <td>16855</td>\n",
       "      <td>Generate a job description for a Research Anal...</td>\n",
       "      <td>Job Description: Research Analyst (Constructio...</td>\n",
       "    </tr>\n",
       "    <tr>\n",
       "      <th>9997</th>\n",
       "      <td>9997</td>\n",
       "      <td>16857</td>\n",
       "      <td>Generate a job description for a Data Analyst ...</td>\n",
       "      <td>Job Description: Data Analyst (Specializing in...</td>\n",
       "    </tr>\n",
       "    <tr>\n",
       "      <th>9998</th>\n",
       "      <td>9998</td>\n",
       "      <td>16858</td>\n",
       "      <td>Generate a job description for a Systems Admin...</td>\n",
       "      <td>Job Description: Systems Administrator - Minin...</td>\n",
       "    </tr>\n",
       "    <tr>\n",
       "      <th>9999</th>\n",
       "      <td>9999</td>\n",
       "      <td>16860</td>\n",
       "      <td>Generate a job description for a Web Developer...</td>\n",
       "      <td>Job Description: Web Developer\\n\\nWe are curre...</td>\n",
       "    </tr>\n",
       "  </tbody>\n",
       "</table>\n",
       "</div>"
      ],
      "text/plain": [
       "      Unnamed: 0  index                                        user_prompt  \\\n",
       "9995        9995  16854  Generate a job description for a Data Analyst ...   \n",
       "9996        9996  16855  Generate a job description for a Research Anal...   \n",
       "9997        9997  16857  Generate a job description for a Data Analyst ...   \n",
       "9998        9998  16858  Generate a job description for a Systems Admin...   \n",
       "9999        9999  16860  Generate a job description for a Web Developer...   \n",
       "\n",
       "                                         model_response  \n",
       "9995  Job Description: Data Analyst (Mining, Crude-O...  \n",
       "9996  Job Description: Research Analyst (Constructio...  \n",
       "9997  Job Description: Data Analyst (Specializing in...  \n",
       "9998  Job Description: Systems Administrator - Minin...  \n",
       "9999  Job Description: Web Developer\\n\\nWe are curre...  "
      ]
     },
     "execution_count": 20,
     "metadata": {},
     "output_type": "execute_result"
    }
   ],
   "source": [
    "df = pd.read_parquet('data/train-00000-of-00001.parquet')\n",
    "df.tail()\n"
   ]
  },
  {
   "cell_type": "code",
   "execution_count": 21,
   "metadata": {},
   "outputs": [],
   "source": [
    "df = df.drop(columns=['Unnamed: 0','index'])"
   ]
  },
  {
   "cell_type": "code",
   "execution_count": 22,
   "metadata": {},
   "outputs": [
    {
     "data": {
      "text/plain": [
       "user_prompt  model_response\n",
       "False        False             10000\n",
       "Name: count, dtype: int64"
      ]
     },
     "execution_count": 22,
     "metadata": {},
     "output_type": "execute_result"
    }
   ],
   "source": [
    "df.isnull().value_counts()"
   ]
  },
  {
   "cell_type": "code",
   "execution_count": 23,
   "metadata": {},
   "outputs": [
    {
     "data": {
      "text/html": [
       "<div>\n",
       "<style scoped>\n",
       "    .dataframe tbody tr th:only-of-type {\n",
       "        vertical-align: middle;\n",
       "    }\n",
       "\n",
       "    .dataframe tbody tr th {\n",
       "        vertical-align: top;\n",
       "    }\n",
       "\n",
       "    .dataframe thead th {\n",
       "        text-align: right;\n",
       "    }\n",
       "</style>\n",
       "<table border=\"1\" class=\"dataframe\">\n",
       "  <thead>\n",
       "    <tr style=\"text-align: right;\">\n",
       "      <th></th>\n",
       "      <th>user_prompt</th>\n",
       "      <th>model_response</th>\n",
       "    </tr>\n",
       "  </thead>\n",
       "  <tbody>\n",
       "    <tr>\n",
       "      <th>0</th>\n",
       "      <td>Generate a job description for a Project Manag...</td>\n",
       "      <td>Job Description: Project Manager - Food Servic...</td>\n",
       "    </tr>\n",
       "    <tr>\n",
       "      <th>1</th>\n",
       "      <td>Generate a job description for a Systems Admin...</td>\n",
       "      <td>Job Description: Systems Administrator\\n\\nWe a...</td>\n",
       "    </tr>\n",
       "    <tr>\n",
       "      <th>2</th>\n",
       "      <td>Generate a job description for a Systems Admin...</td>\n",
       "      <td>Job Description: Systems Administrator\\n\\nWe a...</td>\n",
       "    </tr>\n",
       "    <tr>\n",
       "      <th>3</th>\n",
       "      <td>Generate a job description for a Data Analyst ...</td>\n",
       "      <td>Job Description: Data Analyst\\n\\nWe are curren...</td>\n",
       "    </tr>\n",
       "    <tr>\n",
       "      <th>4</th>\n",
       "      <td>Generate a job description for a Data Analyst ...</td>\n",
       "      <td>Job Description: Data Analyst (Pharmaceuticals...</td>\n",
       "    </tr>\n",
       "    <tr>\n",
       "      <th>...</th>\n",
       "      <td>...</td>\n",
       "      <td>...</td>\n",
       "    </tr>\n",
       "    <tr>\n",
       "      <th>9995</th>\n",
       "      <td>Generate a job description for a Data Analyst ...</td>\n",
       "      <td>Job Description: Data Analyst (Mining, Crude-O...</td>\n",
       "    </tr>\n",
       "    <tr>\n",
       "      <th>9996</th>\n",
       "      <td>Generate a job description for a Research Anal...</td>\n",
       "      <td>Job Description: Research Analyst (Constructio...</td>\n",
       "    </tr>\n",
       "    <tr>\n",
       "      <th>9997</th>\n",
       "      <td>Generate a job description for a Data Analyst ...</td>\n",
       "      <td>Job Description: Data Analyst (Specializing in...</td>\n",
       "    </tr>\n",
       "    <tr>\n",
       "      <th>9998</th>\n",
       "      <td>Generate a job description for a Systems Admin...</td>\n",
       "      <td>Job Description: Systems Administrator - Minin...</td>\n",
       "    </tr>\n",
       "    <tr>\n",
       "      <th>9999</th>\n",
       "      <td>Generate a job description for a Web Developer...</td>\n",
       "      <td>Job Description: Web Developer\\n\\nWe are curre...</td>\n",
       "    </tr>\n",
       "  </tbody>\n",
       "</table>\n",
       "<p>9638 rows × 2 columns</p>\n",
       "</div>"
      ],
      "text/plain": [
       "                                            user_prompt  \\\n",
       "0     Generate a job description for a Project Manag...   \n",
       "1     Generate a job description for a Systems Admin...   \n",
       "2     Generate a job description for a Systems Admin...   \n",
       "3     Generate a job description for a Data Analyst ...   \n",
       "4     Generate a job description for a Data Analyst ...   \n",
       "...                                                 ...   \n",
       "9995  Generate a job description for a Data Analyst ...   \n",
       "9996  Generate a job description for a Research Anal...   \n",
       "9997  Generate a job description for a Data Analyst ...   \n",
       "9998  Generate a job description for a Systems Admin...   \n",
       "9999  Generate a job description for a Web Developer...   \n",
       "\n",
       "                                         model_response  \n",
       "0     Job Description: Project Manager - Food Servic...  \n",
       "1     Job Description: Systems Administrator\\n\\nWe a...  \n",
       "2     Job Description: Systems Administrator\\n\\nWe a...  \n",
       "3     Job Description: Data Analyst\\n\\nWe are curren...  \n",
       "4     Job Description: Data Analyst (Pharmaceuticals...  \n",
       "...                                                 ...  \n",
       "9995  Job Description: Data Analyst (Mining, Crude-O...  \n",
       "9996  Job Description: Research Analyst (Constructio...  \n",
       "9997  Job Description: Data Analyst (Specializing in...  \n",
       "9998  Job Description: Systems Administrator - Minin...  \n",
       "9999  Job Description: Web Developer\\n\\nWe are curre...  \n",
       "\n",
       "[9638 rows x 2 columns]"
      ]
     },
     "execution_count": 23,
     "metadata": {},
     "output_type": "execute_result"
    }
   ],
   "source": [
    "df.drop_duplicates()"
   ]
  },
  {
   "cell_type": "code",
   "execution_count": 24,
   "metadata": {},
   "outputs": [
    {
     "data": {
      "text/html": [
       "<div>\n",
       "<style scoped>\n",
       "    .dataframe tbody tr th:only-of-type {\n",
       "        vertical-align: middle;\n",
       "    }\n",
       "\n",
       "    .dataframe tbody tr th {\n",
       "        vertical-align: top;\n",
       "    }\n",
       "\n",
       "    .dataframe thead th {\n",
       "        text-align: right;\n",
       "    }\n",
       "</style>\n",
       "<table border=\"1\" class=\"dataframe\">\n",
       "  <thead>\n",
       "    <tr style=\"text-align: right;\">\n",
       "      <th></th>\n",
       "      <th>user_prompt</th>\n",
       "      <th>model_response</th>\n",
       "    </tr>\n",
       "  </thead>\n",
       "  <tbody>\n",
       "    <tr>\n",
       "      <th>0</th>\n",
       "      <td>Generate a job description for a Project Manag...</td>\n",
       "      <td>Job Description: Project Manager - Food Servic...</td>\n",
       "    </tr>\n",
       "    <tr>\n",
       "      <th>1</th>\n",
       "      <td>Generate a job description for a Systems Admin...</td>\n",
       "      <td>Job Description: Systems Administrator\\n\\nWe a...</td>\n",
       "    </tr>\n",
       "    <tr>\n",
       "      <th>2</th>\n",
       "      <td>Generate a job description for a Systems Admin...</td>\n",
       "      <td>Job Description: Systems Administrator\\n\\nWe a...</td>\n",
       "    </tr>\n",
       "    <tr>\n",
       "      <th>3</th>\n",
       "      <td>Generate a job description for a Data Analyst ...</td>\n",
       "      <td>Job Description: Data Analyst\\n\\nWe are curren...</td>\n",
       "    </tr>\n",
       "    <tr>\n",
       "      <th>4</th>\n",
       "      <td>Generate a job description for a Data Analyst ...</td>\n",
       "      <td>Job Description: Data Analyst (Pharmaceuticals...</td>\n",
       "    </tr>\n",
       "    <tr>\n",
       "      <th>...</th>\n",
       "      <td>...</td>\n",
       "      <td>...</td>\n",
       "    </tr>\n",
       "    <tr>\n",
       "      <th>9995</th>\n",
       "      <td>Generate a job description for a Data Analyst ...</td>\n",
       "      <td>Job Description: Data Analyst (Mining, Crude-O...</td>\n",
       "    </tr>\n",
       "    <tr>\n",
       "      <th>9996</th>\n",
       "      <td>Generate a job description for a Research Anal...</td>\n",
       "      <td>Job Description: Research Analyst (Constructio...</td>\n",
       "    </tr>\n",
       "    <tr>\n",
       "      <th>9997</th>\n",
       "      <td>Generate a job description for a Data Analyst ...</td>\n",
       "      <td>Job Description: Data Analyst (Specializing in...</td>\n",
       "    </tr>\n",
       "    <tr>\n",
       "      <th>9998</th>\n",
       "      <td>Generate a job description for a Systems Admin...</td>\n",
       "      <td>Job Description: Systems Administrator - Minin...</td>\n",
       "    </tr>\n",
       "    <tr>\n",
       "      <th>9999</th>\n",
       "      <td>Generate a job description for a Web Developer...</td>\n",
       "      <td>Job Description: Web Developer\\n\\nWe are curre...</td>\n",
       "    </tr>\n",
       "  </tbody>\n",
       "</table>\n",
       "<p>10000 rows × 2 columns</p>\n",
       "</div>"
      ],
      "text/plain": [
       "                                            user_prompt  \\\n",
       "0     Generate a job description for a Project Manag...   \n",
       "1     Generate a job description for a Systems Admin...   \n",
       "2     Generate a job description for a Systems Admin...   \n",
       "3     Generate a job description for a Data Analyst ...   \n",
       "4     Generate a job description for a Data Analyst ...   \n",
       "...                                                 ...   \n",
       "9995  Generate a job description for a Data Analyst ...   \n",
       "9996  Generate a job description for a Research Anal...   \n",
       "9997  Generate a job description for a Data Analyst ...   \n",
       "9998  Generate a job description for a Systems Admin...   \n",
       "9999  Generate a job description for a Web Developer...   \n",
       "\n",
       "                                         model_response  \n",
       "0     Job Description: Project Manager - Food Servic...  \n",
       "1     Job Description: Systems Administrator\\n\\nWe a...  \n",
       "2     Job Description: Systems Administrator\\n\\nWe a...  \n",
       "3     Job Description: Data Analyst\\n\\nWe are curren...  \n",
       "4     Job Description: Data Analyst (Pharmaceuticals...  \n",
       "...                                                 ...  \n",
       "9995  Job Description: Data Analyst (Mining, Crude-O...  \n",
       "9996  Job Description: Research Analyst (Constructio...  \n",
       "9997  Job Description: Data Analyst (Specializing in...  \n",
       "9998  Job Description: Systems Administrator - Minin...  \n",
       "9999  Job Description: Web Developer\\n\\nWe are curre...  \n",
       "\n",
       "[10000 rows x 2 columns]"
      ]
     },
     "execution_count": 24,
     "metadata": {},
     "output_type": "execute_result"
    }
   ],
   "source": [
    "df"
   ]
  },
  {
   "cell_type": "code",
   "execution_count": 31,
   "metadata": {},
   "outputs": [
    {
     "name": "stderr",
     "output_type": "stream",
     "text": [
      "/var/folders/95/d1vzs00x0cvbmsxthgvjyhb40000gn/T/ipykernel_47587/718544433.py:1: FutureWarning: Series.__getitem__ treating keys as positions is deprecated. In a future version, integer keys will always be treated as labels (consistent with DataFrame behavior). To access a value by position, use `ser.iloc[pos]`\n",
      "  df.iloc[5][0]\n"
     ]
    },
    {
     "data": {
      "text/plain": [
       "'Generate a job description for a Java Developer role.The candidate should have skills in Web application development Java web frameworks example Servlets, JSP Frontend integration User authentication Security protocols Code documentation. The job description should include the sector (Consumer Goods or Homecare) and industry (Consumer Products  based on  Cleaning Products) of the company.'"
      ]
     },
     "execution_count": 31,
     "metadata": {},
     "output_type": "execute_result"
    }
   ],
   "source": [
    "df.iloc[5][0]"
   ]
  },
  {
   "cell_type": "code",
   "execution_count": null,
   "metadata": {},
   "outputs": [],
   "source": []
  }
 ],
 "metadata": {
  "kernelspec": {
   "display_name": "Python 3",
   "language": "python",
   "name": "python3"
  },
  "language_info": {
   "codemirror_mode": {
    "name": "ipython",
    "version": 3
   },
   "file_extension": ".py",
   "mimetype": "text/x-python",
   "name": "python",
   "nbconvert_exporter": "python",
   "pygments_lexer": "ipython3",
   "version": "3.11.0"
  }
 },
 "nbformat": 4,
 "nbformat_minor": 2
}
